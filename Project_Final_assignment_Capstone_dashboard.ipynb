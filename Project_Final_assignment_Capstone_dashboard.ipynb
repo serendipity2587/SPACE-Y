{
  "cells": [
    {
      "cell_type": "markdown",
      "metadata": {
        "id": "view-in-github",
        "colab_type": "text"
      },
      "source": [
        "<a href=\"https://colab.research.google.com/github/serendipity2587/SPACE-Y/blob/MASTER/Project_Final_assignment_Capstone_dashboard.ipynb\" target=\"_parent\"><img src=\"https://colab.research.google.com/assets/colab-badge.svg\" alt=\"Open In Colab\"/></a>"
      ]
    },
    {
      "cell_type": "code",
      "source": [
        "pip install pandas dash"
      ],
      "metadata": {
        "colab": {
          "base_uri": "https://localhost:8080/"
        },
        "id": "3lA1zXRBV3hc",
        "outputId": "c709cf12-3228-4a58-dbff-aec1d8b30880"
      },
      "execution_count": 1,
      "outputs": [
        {
          "output_type": "stream",
          "name": "stdout",
          "text": [
            "Requirement already satisfied: pandas in /usr/local/lib/python3.7/dist-packages (1.3.5)\n",
            "Collecting dash\n",
            "  Downloading dash-2.4.1-py3-none-any.whl (9.8 MB)\n",
            "\u001b[K     |████████████████████████████████| 9.8 MB 26.1 MB/s \n",
            "\u001b[?25hRequirement already satisfied: python-dateutil>=2.7.3 in /usr/local/lib/python3.7/dist-packages (from pandas) (2.8.2)\n",
            "Requirement already satisfied: pytz>=2017.3 in /usr/local/lib/python3.7/dist-packages (from pandas) (2022.1)\n",
            "Requirement already satisfied: numpy>=1.17.3 in /usr/local/lib/python3.7/dist-packages (from pandas) (1.21.6)\n",
            "Requirement already satisfied: six>=1.5 in /usr/local/lib/python3.7/dist-packages (from python-dateutil>=2.7.3->pandas) (1.15.0)\n",
            "Collecting dash-table==5.0.0\n",
            "  Downloading dash_table-5.0.0-py3-none-any.whl (3.9 kB)\n",
            "Collecting dash-html-components==2.0.0\n",
            "  Downloading dash_html_components-2.0.0-py3-none-any.whl (4.1 kB)\n",
            "Collecting dash-core-components==2.0.0\n",
            "  Downloading dash_core_components-2.0.0-py3-none-any.whl (3.8 kB)\n",
            "Requirement already satisfied: Flask>=1.0.4 in /usr/local/lib/python3.7/dist-packages (from dash) (1.1.4)\n",
            "Collecting flask-compress\n",
            "  Downloading Flask_Compress-1.12-py3-none-any.whl (7.9 kB)\n",
            "Requirement already satisfied: plotly>=5.0.0 in /usr/local/lib/python3.7/dist-packages (from dash) (5.5.0)\n",
            "Requirement already satisfied: click<8.0,>=5.1 in /usr/local/lib/python3.7/dist-packages (from Flask>=1.0.4->dash) (7.1.2)\n",
            "Requirement already satisfied: itsdangerous<2.0,>=0.24 in /usr/local/lib/python3.7/dist-packages (from Flask>=1.0.4->dash) (1.1.0)\n",
            "Requirement already satisfied: Werkzeug<2.0,>=0.15 in /usr/local/lib/python3.7/dist-packages (from Flask>=1.0.4->dash) (1.0.1)\n",
            "Requirement already satisfied: Jinja2<3.0,>=2.10.1 in /usr/local/lib/python3.7/dist-packages (from Flask>=1.0.4->dash) (2.11.3)\n",
            "Requirement already satisfied: MarkupSafe>=0.23 in /usr/local/lib/python3.7/dist-packages (from Jinja2<3.0,>=2.10.1->Flask>=1.0.4->dash) (2.0.1)\n",
            "Requirement already satisfied: tenacity>=6.2.0 in /usr/local/lib/python3.7/dist-packages (from plotly>=5.0.0->dash) (8.0.1)\n",
            "Collecting brotli\n",
            "  Downloading Brotli-1.0.9-cp37-cp37m-manylinux1_x86_64.whl (357 kB)\n",
            "\u001b[K     |████████████████████████████████| 357 kB 39.2 MB/s \n",
            "\u001b[?25hInstalling collected packages: brotli, flask-compress, dash-table, dash-html-components, dash-core-components, dash\n",
            "Successfully installed brotli-1.0.9 dash-2.4.1 dash-core-components-2.0.0 dash-html-components-2.0.0 dash-table-5.0.0 flask-compress-1.12\n"
          ]
        }
      ]
    },
    {
      "cell_type": "code",
      "source": [
        "pip install dash"
      ],
      "metadata": {
        "colab": {
          "base_uri": "https://localhost:8080/"
        },
        "id": "_NZXqGlyWAPc",
        "outputId": "79491ad3-0769-4de5-8d6f-a25f4c2407d4"
      },
      "execution_count": 2,
      "outputs": [
        {
          "output_type": "stream",
          "name": "stdout",
          "text": [
            "Requirement already satisfied: dash in /usr/local/lib/python3.7/dist-packages (2.4.1)\n",
            "Requirement already satisfied: plotly>=5.0.0 in /usr/local/lib/python3.7/dist-packages (from dash) (5.5.0)\n",
            "Requirement already satisfied: dash-core-components==2.0.0 in /usr/local/lib/python3.7/dist-packages (from dash) (2.0.0)\n",
            "Requirement already satisfied: dash-html-components==2.0.0 in /usr/local/lib/python3.7/dist-packages (from dash) (2.0.0)\n",
            "Requirement already satisfied: Flask>=1.0.4 in /usr/local/lib/python3.7/dist-packages (from dash) (1.1.4)\n",
            "Requirement already satisfied: dash-table==5.0.0 in /usr/local/lib/python3.7/dist-packages (from dash) (5.0.0)\n",
            "Requirement already satisfied: flask-compress in /usr/local/lib/python3.7/dist-packages (from dash) (1.12)\n",
            "Requirement already satisfied: Werkzeug<2.0,>=0.15 in /usr/local/lib/python3.7/dist-packages (from Flask>=1.0.4->dash) (1.0.1)\n",
            "Requirement already satisfied: click<8.0,>=5.1 in /usr/local/lib/python3.7/dist-packages (from Flask>=1.0.4->dash) (7.1.2)\n",
            "Requirement already satisfied: itsdangerous<2.0,>=0.24 in /usr/local/lib/python3.7/dist-packages (from Flask>=1.0.4->dash) (1.1.0)\n",
            "Requirement already satisfied: Jinja2<3.0,>=2.10.1 in /usr/local/lib/python3.7/dist-packages (from Flask>=1.0.4->dash) (2.11.3)\n",
            "Requirement already satisfied: MarkupSafe>=0.23 in /usr/local/lib/python3.7/dist-packages (from Jinja2<3.0,>=2.10.1->Flask>=1.0.4->dash) (2.0.1)\n",
            "Requirement already satisfied: six in /usr/local/lib/python3.7/dist-packages (from plotly>=5.0.0->dash) (1.15.0)\n",
            "Requirement already satisfied: tenacity>=6.2.0 in /usr/local/lib/python3.7/dist-packages (from plotly>=5.0.0->dash) (8.0.1)\n",
            "Requirement already satisfied: brotli in /usr/local/lib/python3.7/dist-packages (from flask-compress->dash) (1.0.9)\n"
          ]
        }
      ]
    },
    {
      "cell_type": "code",
      "source": [
        "pip install jupyter_dash"
      ],
      "metadata": {
        "colab": {
          "base_uri": "https://localhost:8080/"
        },
        "id": "Vm8NyoxMWE7q",
        "outputId": "c89a40c6-7ef7-44de-a7fb-2d05fa22de63"
      },
      "execution_count": 3,
      "outputs": [
        {
          "output_type": "stream",
          "name": "stdout",
          "text": [
            "Collecting jupyter_dash\n",
            "  Downloading jupyter_dash-0.4.2-py3-none-any.whl (23 kB)\n",
            "Requirement already satisfied: ipython in /usr/local/lib/python3.7/dist-packages (from jupyter_dash) (5.5.0)\n",
            "Requirement already satisfied: dash in /usr/local/lib/python3.7/dist-packages (from jupyter_dash) (2.4.1)\n",
            "Collecting retrying\n",
            "  Downloading retrying-1.3.3.tar.gz (10 kB)\n",
            "Requirement already satisfied: nest-asyncio in /usr/local/lib/python3.7/dist-packages (from jupyter_dash) (1.5.5)\n",
            "Requirement already satisfied: flask in /usr/local/lib/python3.7/dist-packages (from jupyter_dash) (1.1.4)\n",
            "Collecting ansi2html\n",
            "  Downloading ansi2html-1.7.0-py3-none-any.whl (15 kB)\n",
            "Requirement already satisfied: requests in /usr/local/lib/python3.7/dist-packages (from jupyter_dash) (2.23.0)\n",
            "Requirement already satisfied: ipykernel in /usr/local/lib/python3.7/dist-packages (from jupyter_dash) (4.10.1)\n",
            "Requirement already satisfied: importlib-metadata in /usr/local/lib/python3.7/dist-packages (from ansi2html->jupyter_dash) (4.11.3)\n",
            "Requirement already satisfied: dash-table==5.0.0 in /usr/local/lib/python3.7/dist-packages (from dash->jupyter_dash) (5.0.0)\n",
            "Requirement already satisfied: dash-core-components==2.0.0 in /usr/local/lib/python3.7/dist-packages (from dash->jupyter_dash) (2.0.0)\n",
            "Requirement already satisfied: flask-compress in /usr/local/lib/python3.7/dist-packages (from dash->jupyter_dash) (1.12)\n",
            "Requirement already satisfied: plotly>=5.0.0 in /usr/local/lib/python3.7/dist-packages (from dash->jupyter_dash) (5.5.0)\n",
            "Requirement already satisfied: dash-html-components==2.0.0 in /usr/local/lib/python3.7/dist-packages (from dash->jupyter_dash) (2.0.0)\n",
            "Requirement already satisfied: itsdangerous<2.0,>=0.24 in /usr/local/lib/python3.7/dist-packages (from flask->jupyter_dash) (1.1.0)\n",
            "Requirement already satisfied: Jinja2<3.0,>=2.10.1 in /usr/local/lib/python3.7/dist-packages (from flask->jupyter_dash) (2.11.3)\n",
            "Requirement already satisfied: Werkzeug<2.0,>=0.15 in /usr/local/lib/python3.7/dist-packages (from flask->jupyter_dash) (1.0.1)\n",
            "Requirement already satisfied: click<8.0,>=5.1 in /usr/local/lib/python3.7/dist-packages (from flask->jupyter_dash) (7.1.2)\n",
            "Requirement already satisfied: MarkupSafe>=0.23 in /usr/local/lib/python3.7/dist-packages (from Jinja2<3.0,>=2.10.1->flask->jupyter_dash) (2.0.1)\n",
            "Requirement already satisfied: six in /usr/local/lib/python3.7/dist-packages (from plotly>=5.0.0->dash->jupyter_dash) (1.15.0)\n",
            "Requirement already satisfied: tenacity>=6.2.0 in /usr/local/lib/python3.7/dist-packages (from plotly>=5.0.0->dash->jupyter_dash) (8.0.1)\n",
            "Requirement already satisfied: brotli in /usr/local/lib/python3.7/dist-packages (from flask-compress->dash->jupyter_dash) (1.0.9)\n",
            "Requirement already satisfied: typing-extensions>=3.6.4 in /usr/local/lib/python3.7/dist-packages (from importlib-metadata->ansi2html->jupyter_dash) (4.2.0)\n",
            "Requirement already satisfied: zipp>=0.5 in /usr/local/lib/python3.7/dist-packages (from importlib-metadata->ansi2html->jupyter_dash) (3.8.0)\n",
            "Requirement already satisfied: jupyter-client in /usr/local/lib/python3.7/dist-packages (from ipykernel->jupyter_dash) (5.3.5)\n",
            "Requirement already satisfied: tornado>=4.0 in /usr/local/lib/python3.7/dist-packages (from ipykernel->jupyter_dash) (5.1.1)\n",
            "Requirement already satisfied: traitlets>=4.1.0 in /usr/local/lib/python3.7/dist-packages (from ipykernel->jupyter_dash) (5.1.1)\n",
            "Requirement already satisfied: pickleshare in /usr/local/lib/python3.7/dist-packages (from ipython->jupyter_dash) (0.7.5)\n",
            "Requirement already satisfied: pexpect in /usr/local/lib/python3.7/dist-packages (from ipython->jupyter_dash) (4.8.0)\n",
            "Requirement already satisfied: setuptools>=18.5 in /usr/local/lib/python3.7/dist-packages (from ipython->jupyter_dash) (57.4.0)\n",
            "Requirement already satisfied: prompt-toolkit<2.0.0,>=1.0.4 in /usr/local/lib/python3.7/dist-packages (from ipython->jupyter_dash) (1.0.18)\n",
            "Requirement already satisfied: simplegeneric>0.8 in /usr/local/lib/python3.7/dist-packages (from ipython->jupyter_dash) (0.8.1)\n",
            "Requirement already satisfied: decorator in /usr/local/lib/python3.7/dist-packages (from ipython->jupyter_dash) (4.4.2)\n",
            "Requirement already satisfied: pygments in /usr/local/lib/python3.7/dist-packages (from ipython->jupyter_dash) (2.6.1)\n",
            "Requirement already satisfied: wcwidth in /usr/local/lib/python3.7/dist-packages (from prompt-toolkit<2.0.0,>=1.0.4->ipython->jupyter_dash) (0.2.5)\n",
            "Requirement already satisfied: pyzmq>=13 in /usr/local/lib/python3.7/dist-packages (from jupyter-client->ipykernel->jupyter_dash) (22.3.0)\n",
            "Requirement already satisfied: jupyter-core>=4.6.0 in /usr/local/lib/python3.7/dist-packages (from jupyter-client->ipykernel->jupyter_dash) (4.10.0)\n",
            "Requirement already satisfied: python-dateutil>=2.1 in /usr/local/lib/python3.7/dist-packages (from jupyter-client->ipykernel->jupyter_dash) (2.8.2)\n",
            "Requirement already satisfied: ptyprocess>=0.5 in /usr/local/lib/python3.7/dist-packages (from pexpect->ipython->jupyter_dash) (0.7.0)\n",
            "Requirement already satisfied: idna<3,>=2.5 in /usr/local/lib/python3.7/dist-packages (from requests->jupyter_dash) (2.10)\n",
            "Requirement already satisfied: chardet<4,>=3.0.2 in /usr/local/lib/python3.7/dist-packages (from requests->jupyter_dash) (3.0.4)\n",
            "Requirement already satisfied: urllib3!=1.25.0,!=1.25.1,<1.26,>=1.21.1 in /usr/local/lib/python3.7/dist-packages (from requests->jupyter_dash) (1.24.3)\n",
            "Requirement already satisfied: certifi>=2017.4.17 in /usr/local/lib/python3.7/dist-packages (from requests->jupyter_dash) (2021.10.8)\n",
            "Building wheels for collected packages: retrying\n",
            "  Building wheel for retrying (setup.py) ... \u001b[?25l\u001b[?25hdone\n",
            "  Created wheel for retrying: filename=retrying-1.3.3-py3-none-any.whl size=11447 sha256=91e9b41023225a3d20aebf9b12654ec34aac11d2f1c90a33a8a09b3277855b63\n",
            "  Stored in directory: /root/.cache/pip/wheels/f9/8d/8d/f6af3f7f9eea3553bc2fe6d53e4b287dad18b06a861ac56ddf\n",
            "Successfully built retrying\n",
            "Installing collected packages: retrying, ansi2html, jupyter-dash\n",
            "Successfully installed ansi2html-1.7.0 jupyter-dash-0.4.2 retrying-1.3.3\n"
          ]
        }
      ]
    },
    {
      "cell_type": "code",
      "execution_count": 4,
      "metadata": {
        "id": "7YrbnXS7VvcK",
        "outputId": "fec11161-6386-4195-80d6-e6f8157cda5c",
        "colab": {
          "base_uri": "https://localhost:8080/",
          "height": 156
        }
      },
      "outputs": [
        {
          "output_type": "stream",
          "name": "stderr",
          "text": [
            "/usr/local/lib/python3.7/dist-packages/ipykernel_launcher.py:4: UserWarning: \n",
            "The dash_html_components package is deprecated. Please replace\n",
            "`import dash_html_components as html` with `from dash import html`\n",
            "  after removing the cwd from sys.path.\n",
            "/usr/local/lib/python3.7/dist-packages/ipykernel_launcher.py:5: UserWarning: \n",
            "The dash_core_components package is deprecated. Please replace\n",
            "`import dash_core_components as dcc` with `from dash import dcc`\n",
            "  \"\"\"\n"
          ]
        }
      ],
      "source": [
        "# Import required libraries\n",
        "import pandas as pd\n",
        "import dash\n",
        "import dash_html_components as html\n",
        "import dash_core_components as dcc\n",
        "from dash.dependencies import Input, Output, State\n",
        "from jupyter_dash import JupyterDash\n",
        "import plotly.graph_objects as go\n",
        "import plotly.express as plt\n",
        "from dash import no_update"
      ]
    },
    {
      "cell_type": "code",
      "execution_count": 5,
      "metadata": {
        "id": "S7yI04HHVvcQ"
      },
      "outputs": [],
      "source": [
        "# Create a dash application\n",
        "app = JupyterDash(__name__)\n",
        "JupyterDash.infer_jupyter_proxy_config()"
      ]
    },
    {
      "cell_type": "code",
      "execution_count": 6,
      "metadata": {
        "id": "5iW19Pu2VvcR"
      },
      "outputs": [],
      "source": [
        "# REVIEW1: Clear the layout and do not display exception till callback gets executed\n",
        "app.config.suppress_callback_exceptions = True\n",
        "\n",
        "# Read the airline data into pandas dataframe\n",
        "airline_data =  pd.read_csv('https://cf-courses-data.s3.us.cloud-object-storage.appdomain.cloud/IBMDeveloperSkillsNetwork-DV0101EN-SkillsNetwork/Data%20Files/airline_data.csv', \n",
        "                            encoding = \"ISO-8859-1\",\n",
        "                            dtype={'Div1Airport': str, 'Div1TailNum': str, \n",
        "                                   'Div2Airport': str, 'Div2TailNum': str})\n",
        "\n",
        "\n",
        "# List of years \n",
        "year_list = [i for i in range(2005, 2021, 1)]"
      ]
    },
    {
      "cell_type": "code",
      "execution_count": 7,
      "metadata": {
        "id": "p_L4kOObVvcS"
      },
      "outputs": [],
      "source": [
        "\"\"\"Compute graph data for creating yearly airline performance report \n",
        "\n",
        "Function that takes airline data as input and create 5 dataframes based on the grouping condition to be used for plottling charts and grphs.\n",
        "\n",
        "Argument:\n",
        "     \n",
        "    df: Filtered dataframe\n",
        "    \n",
        "Returns:\n",
        "   Dataframes to create graph. \n",
        "\"\"\"\n",
        "def compute_data_choice_1(df):\n",
        "    # Cancellation Category Count\n",
        "    bar_data = df.groupby(['Month','CancellationCode'])['Flights'].sum().reset_index()\n",
        "    # Average flight time by reporting airline\n",
        "    line_data = df.groupby(['Month','Reporting_Airline'])['AirTime'].mean().reset_index()\n",
        "    # Diverted Airport Landings\n",
        "    div_data = df[df['DivAirportLandings'] != 0.0]\n",
        "    # Source state count\n",
        "    map_data = df.groupby(['OriginState'])['Flights'].sum().reset_index()\n",
        "    # Destination state count\n",
        "    tree_data = df.groupby(['DestState', 'Reporting_Airline'])['Flights'].sum().reset_index()\n",
        "    return [bar_data, line_data, div_data, map_data, tree_data]\n",
        "\n",
        "\"\"\"Compute graph data for creating yearly airline delay report\n",
        "\n",
        "This function takes in airline data and selected year as an input and performs computation for creating charts and plots.\n",
        "\n",
        "Arguments:\n",
        "    df: Input airline data.\n",
        "    \n",
        "Returns:\n",
        "    Computed average dataframes for carrier delay, weather delay, NAS delay, security delay, and late aircraft delay.\n",
        "\"\"\"\n",
        "def compute_data_choice_2(df):\n",
        "    # Compute delay averages\n",
        "    avg_car = df.groupby(['Month','Reporting_Airline'])['CarrierDelay'].mean().reset_index()\n",
        "    avg_weather = df.groupby(['Month','Reporting_Airline'])['WeatherDelay'].mean().reset_index()\n",
        "    avg_NAS = df.groupby(['Month','Reporting_Airline'])['NASDelay'].mean().reset_index()\n",
        "    avg_sec = df.groupby(['Month','Reporting_Airline'])['SecurityDelay'].mean().reset_index()\n",
        "    avg_late = df.groupby(['Month','Reporting_Airline'])['LateAircraftDelay'].mean().reset_index()\n",
        "    return [avg_car, avg_weather, avg_NAS, avg_sec, avg_late]"
      ]
    },
    {
      "cell_type": "code",
      "execution_count": 8,
      "metadata": {
        "id": "XLK3x3O8VvcT"
      },
      "outputs": [],
      "source": [
        "# Application layout\n",
        "app.layout = (html.Div(children=[ \n",
        "                                # TODO1: Add title to the dashboard\n",
        "                                html.H1('US Domestic Airline Flights Performance',\n",
        "                                        style={'text-align-last':'centre','color':'#503D36','font-size':24}\n",
        "                                       ),\n",
        "                                # REVIEW2: Dropdown creation\n",
        "                                # Create an outer division \n",
        "                                html.Div([\n",
        "                                    # Add an division\n",
        "                                    html.Div([\n",
        "                                        # Create an division for adding dropdown helper text for report type   \n",
        "                                        html.Div(\n",
        "                                            [\n",
        "                                            html.H2('Report Type:', style={'margin-right': '2em'})\n",
        "                                            ]\n",
        "                                        ),\n",
        "                                        # TODO2: Add a dropdown\n",
        "                                        dcc.Dropdown(id='input-type',\n",
        "                                                     options=[\n",
        "                                                              {'label': 'Yearly Airline Performance Report', 'value': 'OPT1'},\n",
        "                                                              {'label': 'Yearly Airline Delay Report', 'value': 'OPT2'}\n",
        "                                                             ],\n",
        "                                                     placeholder='Select a report type',\n",
        "                                                     style={'width':'80%', 'padding':'3px', 'font-size':'20px', 'text-align-last':'center'}\n",
        "                                                    )\n",
        "                                    # Place them next to each other using the division style\n",
        "                                            ], style={'display':'flex'}),\n",
        "                                    \n",
        "                                   # Add next division \n",
        "                                   html.Div([\n",
        "                                       # Create an division for adding dropdown helper text for choosing year\n",
        "                                        html.Div(\n",
        "                                            [\n",
        "                                            html.H2('Choose Year:', style={'margin-right': '2em'})\n",
        "                                            ]\n",
        "                                        ),\n",
        "                                        dcc.Dropdown(id='input-year', \n",
        "                                                     # Update dropdown values using list comphrehension\n",
        "                                                     options=[{'label': i, 'value': i} for i in year_list],\n",
        "                                                     placeholder=\"Select a year\",\n",
        "                                                     style={'width':'80%', 'padding':'3px', 'font-size': '20px', 'text-align-last' : 'center'}),\n",
        "                                            # Place them next to each other using the division style\n",
        "                                            ], style={'display': 'flex'})  \n",
        "                                          ]),\n",
        "                                \n",
        "                                # Add Computed graphs\n",
        "                                # REVIEW3: Observe how we add an empty division and providing an id that will be updated during callback\n",
        "                                html.Div([ ], id='plot1'),\n",
        "    \n",
        "                                html.Div([\n",
        "                                          html.Div([ ], id='plot2'),\n",
        "                                          html.Div([ ], id='plot3')\n",
        "                                         ], \n",
        "                                          style={'display': 'flex'}),\n",
        "                                \n",
        "                                # TODO3: Add a division with two empty divisions inside. See above disvision for example.\n",
        "                                html.Div([\n",
        "                                          html.Div([ ], id='plot4'),\n",
        "                                          html.Div([ ], id='plot5')\n",
        "                                         ], \n",
        "                                          style={'display': 'flex'})\n",
        "                                ])\n",
        "             )\n",
        "\n",
        "# Callback function definition\n",
        "# TODO4: Add 5 ouput components\n",
        "@app.callback( [Output(component_id='plot1', component_property='children'),\n",
        "                Output(component_id='plot2', component_property='children'),\n",
        "                Output(component_id='plot3', component_property='children'),\n",
        "                Output(component_id='plot4', component_property='children'),\n",
        "                Output(component_id='plot5', component_property='children')\n",
        "               ],\n",
        "               [Input(component_id='input-type', component_property='value'),\n",
        "                Input(component_id='input-year', component_property='value')\n",
        "               ],\n",
        "               # REVIEW4: Holding output state till user enters all the form information. In this case, it will be chart type and year\n",
        "               [State(\"plot1\", 'children'), \n",
        "                State(\"plot2\", \"children\"),\n",
        "                State(\"plot3\", \"children\"), \n",
        "                State(\"plot4\", \"children\"),\n",
        "                State(\"plot5\", \"children\")\n",
        "               ])\n",
        "\n",
        "# Add computation to callback function and return graph\n",
        "def get_graph(chart, year, children1, children2, c3, c4, c5):\n",
        "      \n",
        "        # Select data\n",
        "        df =  airline_data[airline_data['Year']==int(year)]\n",
        "       \n",
        "        if chart == 'OPT1':\n",
        "            # Compute required information for creating graph from the data\n",
        "            bar_data, line_data, div_data, map_data, tree_data = compute_data_choice_1(df)\n",
        "            \n",
        "            # Number of flights under different cancellation categories\n",
        "            bar_fig = plt.bar(bar_data, x='Month', y='Flights', color='CancellationCode', title='Monthly Flight Cancellation')\n",
        "            \n",
        "            # TODO5: Average flight time by reporting airline\n",
        "            line_fig = plt.line(line_data, x='Month', y='AirTime', color='Reporting_Airline', title='Average monthly flight time (minutes) by airline')\n",
        "            \n",
        "            # Percentage of diverted airport landings per reporting airline\n",
        "            pie_fig = plt.pie(div_data, values='Flights', names='Reporting_Airline', title='% of flights by reporting airline')\n",
        "            \n",
        "            # REVIEW5: Number of flights flying from each state using choropleth\n",
        "            map_fig = plt.choropleth(map_data,  # Input data\n",
        "                    locations='OriginState', \n",
        "                    color='Flights',  \n",
        "                    hover_data=['OriginState', 'Flights'], \n",
        "                    locationmode = 'USA-states', # Set to plot as USA States\n",
        "                    color_continuous_scale='GnBu',\n",
        "                    range_color=[0, map_data['Flights'].max()]) \n",
        "            map_fig.update_layout(\n",
        "                    title_text = 'Number of flights from origin state', \n",
        "                    geo_scope='usa') # Plot only the USA instead of globe\n",
        "            \n",
        "            # TODO6: Number of flights flying to each state from each reporting airline\n",
        "            tree_fig = plt.treemap(tree_data, path=['DestState', 'Reporting_Airline'], \n",
        "                      values='Flights',\n",
        "                      color='Flights',\n",
        "                      color_continuous_scale='RdBu',\n",
        "                      title='Flight count by airline to destination state'\n",
        "                )\n",
        "            \n",
        "            # REVIEW6: Return dcc.Graph component to the empty division\n",
        "            return [dcc.Graph(figure=tree_fig), \n",
        "                    dcc.Graph(figure=pie_fig),\n",
        "                    dcc.Graph(figure=map_fig),\n",
        "                    dcc.Graph(figure=bar_fig),\n",
        "                    dcc.Graph(figure=line_fig)\n",
        "                   ]\n",
        "        else:\n",
        "            # REVIEW7: This covers chart type 2 and we have completed this exercise under Flight Delay Time Statistics Dashboard section\n",
        "            # Compute required information for creating graph from the data\n",
        "            avg_car, avg_weather, avg_NAS, avg_sec, avg_late = compute_data_choice_2(df)\n",
        "            \n",
        "            # Create graph\n",
        "            carrier_fig = plt.line(avg_car, x='Month', y='CarrierDelay', color='Reporting_Airline', title='Average carrrier delay time (minutes) by airline')\n",
        "            weather_fig = plt.line(avg_weather, x='Month', y='WeatherDelay', color='Reporting_Airline', title='Average weather delay time (minutes) by airline')\n",
        "            nas_fig = plt.line(avg_NAS, x='Month', y='NASDelay', color='Reporting_Airline', title='Average NAS delay time (minutes) by airline')\n",
        "            sec_fig = plt.line(avg_sec, x='Month', y='SecurityDelay', color='Reporting_Airline', title='Average security delay time (minutes) by airline')\n",
        "            late_fig = plt.line(avg_late, x='Month', y='LateAircraftDelay', color='Reporting_Airline', title='Average late aircraft delay time (minutes) by airline')\n",
        "            \n",
        "            return[dcc.Graph(figure=carrier_fig), \n",
        "                   dcc.Graph(figure=weather_fig), \n",
        "                   dcc.Graph(figure=nas_fig), \n",
        "                   dcc.Graph(figure=sec_fig), \n",
        "                   dcc.Graph(figure=late_fig)]"
      ]
    },
    {
      "cell_type": "code",
      "execution_count": 9,
      "metadata": {
        "colab": {
          "base_uri": "https://localhost:8080/",
          "height": 706
        },
        "id": "jUwvzV8gVvcZ",
        "outputId": "a7942451-47d1-4304-f676-9e8b240b4dcb"
      },
      "outputs": [
        {
          "output_type": "stream",
          "name": "stderr",
          "text": [
            " * Running on http://localhost:8050/ (Press CTRL+C to quit)\n",
            "127.0.0.1 - - [21/May/2022 16:47:34] \"\u001b[37mGET /_alive_ea00428c-bd03-4149-82fd-35ceafee0ea3 HTTP/1.1\u001b[0m\" 200 -\n"
          ]
        },
        {
          "output_type": "display_data",
          "data": {
            "text/plain": [
              "<IPython.core.display.Javascript object>"
            ],
            "application/javascript": [
              "(async (port, path, width, height, cache, element) => {\n",
              "    if (!google.colab.kernel.accessAllowed && !cache) {\n",
              "      return;\n",
              "    }\n",
              "    element.appendChild(document.createTextNode(''));\n",
              "    const url = await google.colab.kernel.proxyPort(port, {cache});\n",
              "    const iframe = document.createElement('iframe');\n",
              "    iframe.src = new URL(path, url).toString();\n",
              "    iframe.height = height;\n",
              "    iframe.width = width;\n",
              "    iframe.style.border = 0;\n",
              "    element.appendChild(iframe);\n",
              "  })(8050, \"/\", \"100%\", 650, false, window.element)"
            ]
          },
          "metadata": {}
        }
      ],
      "source": [
        "# Run the app\n",
        "if __name__ == '__main__':\n",
        "    # REVIEW8: Adding dev_tools_ui=False, dev_tools_props_check=False can prevent error appearing before calling callback function\n",
        "    app.run_server(mode=\"inline\", host=\"localhost\", debug=False, dev_tools_ui=False, dev_tools_props_check=False)"
      ]
    },
    {
      "cell_type": "code",
      "execution_count": null,
      "metadata": {
        "id": "Ik-JbHfVVvca"
      },
      "outputs": [],
      "source": [
        ""
      ]
    }
  ],
  "metadata": {
    "kernelspec": {
      "display_name": "Python 3",
      "language": "python",
      "name": "python3"
    },
    "language_info": {
      "codemirror_mode": {
        "name": "ipython",
        "version": 3
      },
      "file_extension": ".py",
      "mimetype": "text/x-python",
      "name": "python",
      "nbconvert_exporter": "python",
      "pygments_lexer": "ipython3",
      "version": "3.8.5"
    },
    "colab": {
      "name": "Project_Final_assignmnet_Capstone.ipynb",
      "provenance": [],
      "include_colab_link": true
    }
  },
  "nbformat": 4,
  "nbformat_minor": 0
}